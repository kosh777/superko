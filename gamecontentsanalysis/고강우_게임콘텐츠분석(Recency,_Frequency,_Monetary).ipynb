{
  "nbformat": 4,
  "nbformat_minor": 0,
  "metadata": {
    "colab": {
      "name": "고강우_게임콘텐츠분석(Recency, Frequency, Monetary).ipynb",
      "version": "0.3.2",
      "provenance": [],
      "collapsed_sections": []
    },
    "kernelspec": {
      "name": "python3",
      "display_name": "Python 3"
    }
  },
  "cells": [
    {
      "cell_type": "markdown",
      "metadata": {
        "id": "zcB-WSIUF1qu",
        "colab_type": "text"
      },
      "source": [
        "### RFM 기반 고객 (플레이어) 세그먼테이션 (이탈 가능성을 분석하기 이전 단계 프로세스) 프로젝트 by 고강우 (Fabio Ko)\n",
        "\n",
        "### 내용 : 플레이어 기준 로그인기간, 아이템 구매횟수, 아이템 구매금액에 기반한 RFM 스코어 산출\n",
        "\n",
        "##### - Recency : 플레이어별 로그인기간, 분석일 기준 최근 로그인(days) // attrition(이탈) 가능성을 사전 분석하기 위한 핵심 기준\n",
        "\n",
        "##### - Frequency : 플레이어별 구매건수\n",
        "\n",
        "##### - Monetary : 플레이어별 구매금액\n",
        "\n",
        "### 기대 효과 : 상기 3개 게임콘텐츠 key performance index (kpi)에 기반하여, 하나의 통합된 RFM 스코어를 산출함. 본 RFM 스코어는 추후 sorting 등 추가 가공을 통해 플레이어 이탈 가능성이나 우수 고객 정도성을 예측하는 기반 데이터로 활용 가능함. 더불어, 플레이어 (고객) Segmentation 시, 주요 classification 지표로 활용 가능함"
      ]
    },
    {
      "cell_type": "code",
      "metadata": {
        "id": "WlWjhiKvC5z1",
        "colab_type": "code",
        "colab": {}
      },
      "source": [
        "import numpy as np\n",
        "import pandas as pd\n",
        "import matplotlib.pyplot as plt\n",
        "import seaborn as sns\n",
        "\n",
        "from sklearn.cluster import KMeans\n",
        "from sklearn.metrics import silhouette_score\n",
        "from sklearn.metrics import accuracy_score\n"
      ],
      "execution_count": 0,
      "outputs": []
    },
    {
      "cell_type": "code",
      "metadata": {
        "id": "FJwN276okpcK",
        "colab_type": "code",
        "colab": {}
      },
      "source": [
        "# RFM 기반 데이터 분석\n",
        "\n",
        "# 게임 플레이어(고객) 세그먼테이션(game player segmentation)\n",
        "# 다양한 기준으로 게임 플레이어를 분류하는 기법\n",
        "# 게임콘텐츠 분석에 있어, CRM이나 마케팅의 중요한 기반 요소\n",
        "\n",
        "# 게임플레이어를 분류하는 방법은 다양함\n",
        "# => 거주지역/결혼여부/성별/소득/직업\n",
        "# => 선호아이템군/월별결제(현질)액/최근구매아이템/아이템구매주기\n",
        "# ==> 게임회사 입장에서는 얼마나 많은 매출을 발생하느냐가 \n",
        "#     플레이어 기준을 정하는 중요한 요소\n",
        "# ==> 주요 목표는 타겟 마케팅!!\n",
        "# ==> 하지만, 위의 경우 게임플레이어의 \"인적사항\"에 관련한 것이고,\n",
        "# 본 게임콘텐츠 analysis는 \"게임 캐릭터\"를 기준으로 함 (구분자 : Player_ID)\n",
        "\n",
        "# 따라서, 게임플레이어의 어떤 요소를 기반으로 \n",
        "# 군집화 할 것인가를 결정하는 것이 중요\n",
        "# => RFM 기법 이용\n",
        "# => recency, frequency, monetary\n",
        "\n",
        "\n",
        "# recency 계정 로그인 최근성\n",
        "# 게임플레이어의 마지막 계정 접속 시점이 언제인지를 의미\n",
        "\n",
        "# frequency 아이템 구매 빈도\n",
        "# 게임플레이어가 정해진 기간동안 얼마나 아이템을 자주 구매했나\n",
        "\n",
        "# monetary 아이템 구매 금액\n",
        "# 일정기간 동안에 게임플레이어의 총 아이템 구매금액을 나타냄\n",
        "\n",
        "# RFM 지수 = a * R + b * F + c * M\n",
        "# a, b, c는 가중치\n",
        "\n",
        "\n",
        "# recency 가 중요한 산업 : 유통업(백화점, 보험), 게임산업 (이탈 방지 목적)\n",
        "# frequency 가 중요한 산업 : 통신업, 유통업, 서비스업, 게임산업 (이탈 방지 목적)\n",
        "# monetary 가 중요한 산업 : 금융업(카드사), 게임산업 (이탈 방지 목적)"
      ],
      "execution_count": 0,
      "outputs": []
    },
    {
      "cell_type": "code",
      "metadata": {
        "id": "cV3lHV2LDCwE",
        "colab_type": "code",
        "outputId": "9bc729f2-df77-4fa4-bcf5-86bc814d6901",
        "colab": {
          "base_uri": "https://localhost:8080/",
          "height": 974
        }
      },
      "source": [
        "# 데이터 적재\n",
        "gameplayer = pd.read_csv('Contents_GamePlayer.csv')\n",
        "# => MMORPG 게임에서 발생한 거래 데이터\n",
        "#    2010.01 ~ 2011.09 까지의 데이터 저장\n",
        "# 플레이어 소속 (접속 IP 기준) 국가는 다양함\n",
        "\n",
        "gameplayer.info()\n",
        "# 전체 데이터 : 541909 \n",
        "# 플레이어 ID : 406829 \n",
        "\n",
        "gameplayer.head()\n",
        "gameplayer.describe()   # 아이템 수량과 가격이 마이너스로 표시\n",
        "\n",
        "\n",
        "\n",
        "# 게임콘텐츠 분석을 적용할 대상 국가 (플레이어 접속국가) 선정\n",
        "gameplayer.Country.value_counts()\n",
        "\n",
        "sns.countplot(gameplayer.Country)\n",
        "plt.show()\n",
        "# => 플레이어 분포는 영국, 독일, 프랑스, 아일랜드 순\n",
        "# 영국이 압도적으로 많음. 따라서, 본 분석에서는 \n",
        "# 분석 간략화를 위해 영국 플레이어들을 대상으로 RFM 분석\n",
        "# (실무적으로는 전체 플레이어 대상 분석이 필요할 것으로 사료됨)\n",
        "\n",
        "\n",
        "# 플레이어 ID 데이터 수가 406829 이므로 적절한 기준으로 결측치 처리함\n",
        "# 아이템 구매수량, 구매가격이 0 이상인 데이터를 대상으로 결측치 처리함\n",
        "gameplayer.shape   # (541909, 8)\n",
        "\n",
        "gameplayer.isnull().sum()\n",
        "\n",
        "gameplayerdf = gameplayer[gameplayer.Item_quant > 0]\n",
        "gameplayerdf = gameplayerdf[gameplayer.Item_Bought_USD > 0]\n",
        "gameplayerdf = gameplayerdf[gameplayer.Player_ID.notnull()]\n",
        "\n",
        "gameplayerdf.isnull().sum()\n",
        "\n",
        "gameplayerdf.shape   # (397884, 8)\n",
        "\n",
        "\n",
        "\n",
        "# 플레이어를 영국으로 한정함\n",
        "gameplayerdf.Country.value_counts()[:5]\n",
        "\n",
        "gameplayeruk = gameplayerdf[gameplayerdf.Country == 'United Kingdom']\n",
        "\n",
        "gameplayeruk.Country.value_counts()[:5]   # 354321\n",
        "\n",
        "\n",
        "\n",
        "# 탐색적 분석(EDA)\n",
        "gameplayeruk.describe()\n",
        "\n",
        "\n",
        "\n",
        "# BFM 분석\n",
        "# 분석에 필요한 컬럼들로만 필터링\n",
        "gameplayeruk.columns\n",
        "\n",
        "uk_data = gameplayeruk[[\n",
        "    'Player_ID',\n",
        "    'Last_Log_in_Date',\n",
        "    'Player_ID1',\n",
        "    'Item_Code',\n",
        "    'Item_quant',\n",
        "    'Item_Bought_USD' ]]\n",
        "\n",
        "# 플레이어번호를 정수로 변환\n",
        "uk_data['Player_ID'] = uk_data.loc[:,'Player_ID'].astype(int)\n",
        "\n",
        "# 아이템 수량과 단가를 이용해서 구매금액 산출\n",
        "uk_data['Item_Bought_USD'] = uk_data['Item_quant'] * uk_data['Item_Bought_USD']\n",
        "\n",
        "# 플레이어별 구매건수 확인\n",
        "uk_data['Player_ID'].value_counts().head(10)\n",
        "\n",
        "# 플레이어별 구매금액 확인\n",
        "uk_data.groupby('Player_ID')['Item_Bought_USD'].sum().sort_values(\n",
        "    ascending=False)[:10]\n",
        "\n",
        "# 아이템 구매건수가 많다고 해서 아이템 총구매금액이 높은 것은 아님\n",
        "# => 구매건당 금액이 높기 때문임\n",
        "# => 게임콘텐츠 분석에 있어서 단순한 item 구매 frequency가 아닌,\n",
        "# 총구매금액 (건 당 금액 분석 포함)에 집중해야 하는 이유는,\n",
        "# 결국 \"부유한 플레이어\", 즉 priority segment에 속하는 고객을\n",
        "# retain하는 것이 중요하기 때문\n",
        "\n",
        "\n",
        "# 상품별 구매빈도 파악\n",
        "uk_data['Item_Code'].value_counts()\n",
        "uk_data['Item_Code'].value_counts().head(10)\n",
        "\n",
        "uk_data.groupby(['Player_ID1', 'Item_Code'])['Player_ID1'].count()[:10]"
      ],
      "execution_count": 28,
      "outputs": [
        {
          "output_type": "stream",
          "text": [
            "<class 'pandas.core.frame.DataFrame'>\n",
            "RangeIndex: 284700 entries, 0 to 284699\n",
            "Data columns (total 8 columns):\n",
            "Player_ID1          284700 non-null object\n",
            "Item_Code           284700 non-null object\n",
            "Conversation        283620 non-null object\n",
            "Item_quant          284699 non-null float64\n",
            "Last_Log_in_Date    284699 non-null object\n",
            "Item_Bought_USD     284699 non-null float64\n",
            "Player_ID           203678 non-null float64\n",
            "Country             284699 non-null object\n",
            "dtypes: float64(3), object(5)\n",
            "memory usage: 17.4+ MB\n"
          ],
          "name": "stdout"
        },
        {
          "output_type": "display_data",
          "data": {
            "image/png": "[encoded data removed]",
            "text/plain": [
              "<Figure size 432x288 with 1 Axes>"
            ]
          },
          "metadata": {
            "tags": []
          }
        },
        {
          "output_type": "stream",
          "text": [
            "/usr/local/lib/python3.6/dist-packages/ipykernel_launcher.py:33: UserWarning: Boolean Series key will be reindexed to match DataFrame index.\n",
            "/usr/local/lib/python3.6/dist-packages/ipykernel_launcher.py:34: UserWarning: Boolean Series key will be reindexed to match DataFrame index.\n",
            "/usr/local/lib/python3.6/dist-packages/ipykernel_launcher.py:69: SettingWithCopyWarning: \n",
            "A value is trying to be set on a copy of a slice from a DataFrame.\n",
            "Try using .loc[row_indexer,col_indexer] = value instead\n",
            "\n",
            "See the caveats in the documentation: http://pandas.pydata.org/pandas-docs/stable/indexing.html#indexing-view-versus-copy\n",
            "/usr/local/lib/python3.6/dist-packages/ipykernel_launcher.py:72: SettingWithCopyWarning: \n",
            "A value is trying to be set on a copy of a slice from a DataFrame.\n",
            "Try using .loc[row_indexer,col_indexer] = value instead\n",
            "\n",
            "See the caveats in the documentation: http://pandas.pydata.org/pandas-docs/stable/indexing.html#indexing-view-versus-copy\n"
          ],
          "name": "stderr"
        },
        {
          "output_type": "execute_result",
          "data": {
            "text/plain": [
              "Player_ID1  Item_Code\n",
              "536365      21730        1\n",
              "            22752        1\n",
              "            71053        1\n",
              "            84029E       1\n",
              "            84029G       1\n",
              "            84406B       1\n",
              "            85123A       1\n",
              "536366      22632        1\n",
              "            22633        1\n",
              "536367      21754        1\n",
              "Name: Player_ID1, dtype: int64"
            ]
          },
          "metadata": {
            "tags": []
          },
          "execution_count": 28
        }
      ]
    },
    {
      "cell_type": "code",
      "metadata": {
        "id": "VkSI_Q8XhVTE",
        "colab_type": "code",
        "outputId": "d3a5eae6-f2d6-48eb-d8b2-36f1360040ca",
        "colab": {
          "base_uri": "https://localhost:8080/",
          "height": 1000
        }
      },
      "source": [
        "# RFM 기반 플레이어 세그먼테이션 수행\n",
        "# => 플레이어 기준 로그인기간, 아이템 구매횟수, 아이템 구매금액 산출\n",
        "\n",
        "# Recency : 플레이어별 로그인기간, \n",
        "#           분석일 기준 최근 로그인(days) // attrition(이탈) 가능성을\n",
        "#           사전 분석하기 위한 핵심 기준\n",
        "# Frequency : 플레이어별 구매건수\n",
        "# Monetary : 플레이어별 구매금액\n",
        "\n",
        "uk_data['Recency'] : uk_data.groupby('Player_ID')['Last_Log_in_Date'].max()\n",
        "uk_data['Frequency'] : uk_data.groupby('Player_ID')['Player_ID1'].count()\n",
        "uk_data['Monetary'] : uk_data.groupby('Player_ID')['Item_Bought_USD'].sum()\n",
        "\n",
        "\n",
        "\n",
        "# 독립적인 데이터프레임을 생성한 후 플레이어에 대한 RFM 분석 저장\n",
        "uk_RFM_data  = uk_data.groupby('Player_ID').agg(\n",
        "    { 'Last_Log_in_Date' : 'max',\n",
        "      'Player_ID1' : 'count', \n",
        "      'Item_Bought_USD' : 'sum' })\n",
        "\n",
        "\n",
        "\n",
        "# 컬럼명을 R / F / M 으로 변경\n",
        "uk_RFM_data.rename(columns={\n",
        "    'Last_Log_in_Date' : 'Recency', \n",
        "    'Player_ID1' : 'Frequency', \n",
        "    'Item_Bought_USD' : 'Monetary'}, inplace=True)\n",
        "\n",
        "\n",
        "\n",
        "# 데이터프레임의 인덱스가 플레이어 ID 이므로\n",
        "# 인덱스를 재조정함\n",
        "uk_RFM_data = uk_RFM_data.reset_index()\n",
        "\n",
        "\n",
        "\n",
        "# Recency 재가공\n",
        "# Recency는 분석일 기준 플레이어당 최근 구매\n",
        "# => Recency = 분석일 - 최근 구매일\n",
        "uk_data['Last_Log_in_Date'].min()   # 2010-12-01\n",
        "uk_data['Last_Log_in_Date'].max()   # 2011-12-09\n",
        "\n",
        "# 따라서, 분석일은 2011-12-10 로 설정\n",
        "# 날짜 연산을 위해 pandas에서 지원하는 날짜형으로 변환\n",
        "# '2011-12-10' - '2011-12-01' => 계산불가!! \n",
        "pd.to_datetime('2011-12-10') - pd.to_datetime('2011-12-01')\n",
        "# => Timedelta('9 days 00:00:00')\n",
        "\n",
        "uk_RFM_data['Recency'] = \\\n",
        "pd.to_datetime('2011-12-10') - pd.to_datetime(uk_RFM_data['Recency'])\n",
        "\n",
        "# 계산된 결과에서 일수만 추출\n",
        "uk_RFM_data['Recency'] = uk_RFM_data['Recency'].dt.days\n",
        "\n",
        "\n",
        "\n",
        "# RFM 분석 결과를 시각화\n",
        "uk_RFM_data['Recency'].plot(kind='hist')\n",
        "plt.show()\n",
        "\n",
        "uk_RFM_data['Frequency'].plot(kind='hist')\n",
        "plt.show()\n",
        "\n",
        "uk_RFM_data['Monetary'].plot(kind='hist')\n",
        "plt.show()\n",
        "# 데이터 분포는 왜곡되어 있음 - 한 쪽으로 쏠림\n",
        "\n",
        "\n",
        "\n",
        "# RFM 분석 결과에 기술통계\n",
        "uk_RFM_data.describe()\n",
        "\n",
        "#          \t Recency\t      Frequency\t        Monetary\n",
        "# count\t     3920.000000\t  3920.000000\t    3920.000000\n",
        "# mean\t   \t 91.742092 \t      90.388010\t        1864.385601\n",
        "# std\t   \t 99.533485\t      217.808385\t    7482.817477\n",
        "# min\t   \t 0.000000\t      1.000000\t        3.750000\n",
        "# 25%\t   \t 17.000000\t      17.000000\t        300.280000\n",
        "# 50%\t   \t 50.000000\t      41.000000\t        652.280000\n",
        "# 75%\t     142.000000\t      99.250000\t        1576.585000\n",
        "# max\t   \t 373.000000\t      7847.000000\t    259657.300000\n",
        "\n",
        "# 평균이 중위수보다 큼 => 이상치에 의해 평균이 끌어올려졌음을 의미\n",
        "# 정규분포 아님 => 왜곡이 심한편임을 알 수 있음\n",
        "# => 왜곡 정도가 높은 데이터에 대해 \n",
        "#    kmeans 군집화를 적용시키면 변별력이 떨어지는 결과 도출\n",
        "# ==> 정규화를 통해 평균과 표준편차 재조정 필요"
      ],
      "execution_count": 29,
      "outputs": [
        {
          "output_type": "display_data",
          "data": {
            "image/png": "[encoded data removed]",
            "text/plain": [
              "<Figure size 432x288 with 1 Axes>"
            ]
          },
          "metadata": {
            "tags": []
          }
        },
        {
          "output_type": "display_data",
          "data": {
            "image/png": "[encoded data removed]",
            "text/plain": [
              "<Figure size 432x288 with 1 Axes>"
            ]
          },
          "metadata": {
            "tags": []
          }
        },
        {
          "output_type": "display_data",
          "data": {
            "image/png": "[encoded data removed]",
            "text/plain": [
              "<Figure size 432x288 with 1 Axes>"
            ]
          },
          "metadata": {
            "tags": []
          }
        },
        {
          "output_type": "execute_result",
          "data": {
            "text/html": [
              "<div>\n",
              "<style scoped>\n",
              "    .dataframe tbody tr th:only-of-type {\n",
              "        vertical-align: middle;\n",
              "    }\n",
              "\n",
              "    .dataframe tbody tr th {\n",
              "        vertical-align: top;\n",
              "    }\n",
              "\n",
              "    .dataframe thead th {\n",
              "        text-align: right;\n",
              "    }\n",
              "</style>\n",
              "<table border=\"1\" class=\"dataframe\">\n",
              "  <thead>\n",
              "    <tr style=\"text-align: right;\">\n",
              "      <th></th>\n",
              "      <th>Player_ID</th>\n",
              "      <th>Recency</th>\n",
              "      <th>Frequency</th>\n",
              "      <th>Monetary</th>\n",
              "    </tr>\n",
              "  </thead>\n",
              "  <tbody>\n",
              "    <tr>\n",
              "      <th>count</th>\n",
              "      <td>2846.000000</td>\n",
              "      <td>2846.000000</td>\n",
              "      <td>2846.000000</td>\n",
              "      <td>2846.000000</td>\n",
              "    </tr>\n",
              "    <tr>\n",
              "      <th>mean</th>\n",
              "      <td>15550.081518</td>\n",
              "      <td>212.155657</td>\n",
              "      <td>62.064301</td>\n",
              "      <td>1310.897492</td>\n",
              "    </tr>\n",
              "    <tr>\n",
              "      <th>std</th>\n",
              "      <td>1583.202759</td>\n",
              "      <td>68.282933</td>\n",
              "      <td>121.429918</td>\n",
              "      <td>4345.940590</td>\n",
              "    </tr>\n",
              "    <tr>\n",
              "      <th>min</th>\n",
              "      <td>12346.000000</td>\n",
              "      <td>131.000000</td>\n",
              "      <td>1.000000</td>\n",
              "      <td>2.900000</td>\n",
              "    </tr>\n",
              "    <tr>\n",
              "      <th>25%</th>\n",
              "      <td>14194.250000</td>\n",
              "      <td>155.000000</td>\n",
              "      <td>14.000000</td>\n",
              "      <td>243.840000</td>\n",
              "    </tr>\n",
              "    <tr>\n",
              "      <th>50%</th>\n",
              "      <td>15546.000000</td>\n",
              "      <td>192.000000</td>\n",
              "      <td>30.000000</td>\n",
              "      <td>497.320000</td>\n",
              "    </tr>\n",
              "    <tr>\n",
              "      <th>75%</th>\n",
              "      <td>16912.750000</td>\n",
              "      <td>256.750000</td>\n",
              "      <td>70.000000</td>\n",
              "      <td>1142.282500</td>\n",
              "    </tr>\n",
              "    <tr>\n",
              "      <th>max</th>\n",
              "      <td>18287.000000</td>\n",
              "      <td>373.000000</td>\n",
              "      <td>3503.000000</td>\n",
              "      <td>129551.310000</td>\n",
              "    </tr>\n",
              "  </tbody>\n",
              "</table>\n",
              "</div>"
            ],
            "text/plain": [
              "          Player_ID      Recency    Frequency       Monetary\n",
              "count   2846.000000  2846.000000  2846.000000    2846.000000\n",
              "mean   15550.081518   212.155657    62.064301    1310.897492\n",
              "std     1583.202759    68.282933   121.429918    4345.940590\n",
              "min    12346.000000   131.000000     1.000000       2.900000\n",
              "25%    14194.250000   155.000000    14.000000     243.840000\n",
              "50%    15546.000000   192.000000    30.000000     497.320000\n",
              "75%    16912.750000   256.750000    70.000000    1142.282500\n",
              "max    18287.000000   373.000000  3503.000000  129551.310000"
            ]
          },
          "metadata": {
            "tags": []
          },
          "execution_count": 29
        }
      ]
    },
    {
      "cell_type": "code",
      "metadata": {
        "id": "qF7JsfBmiqut",
        "colab_type": "code",
        "outputId": "b4be17bc-ab78-48ee-9744-90b9687942ac",
        "colab": {
          "base_uri": "https://localhost:8080/",
          "height": 679
        }
      },
      "source": [
        "# 정규화 수행후 kmeans 군집화 적용\n",
        "from sklearn.preprocessing import StandardScaler\n",
        "\n",
        "X = uk_RFM_data.iloc[:, 1:4]\n",
        "X_scaled = StandardScaler().fit_transform(X)\n",
        "\n",
        "kms = KMeans(n_clusters=3, random_state=0)\n",
        "labeled = kms.fit_predict(X_scaled)\n",
        "\n",
        "print('실루엣 점수', silhouette_score(X_scaled, labeled))\n",
        "# => 실루엣 점수 0.5923691942714455\n",
        "\n",
        "\n",
        "kms = KMeans(n_clusters=5, random_state=0)\n",
        "labeled2 = kms.fit_predict(X_scaled)\n",
        "\n",
        "print('실루엣 점수', silhouette_score(X_scaled, labeled))\n",
        "# => 실루엣 점수 0.6036943581226247\n",
        "\n",
        "\n",
        "\n",
        "# 군집별 분포수 확인\n",
        "pd.Series(labeled2).value_counts()\n",
        "# 각 군집별 분포수는 균일하지 않음\n",
        "\n",
        "\n",
        "\n",
        "# 실루엣 그래프 시각화\n",
        "import kmeans_eval\n",
        "\n",
        "kmeans_eval.visualize_silhouette([3, 4, 5], X_scaled)\n",
        "# 그래프를 확인해보면 군집이 제대로 이루어지지 않음\n",
        "# => 분포가 왜곡되어 있어 데이터들이 겹쳐져있기 때문 \n",
        "\n",
        "\n",
        "\n",
        "# 왜곡된 데이터 분포를 재조정하기 위해 \n",
        "# 데이터 값에 로그를 적용하는 로그변환 사용\n",
        "uk_RFM_data['Recency_log'] = np.log1p(uk_RFM_data['Recency'])\n",
        "uk_RFM_data['Frequency_log'] = np.log1p(uk_RFM_data['Frequency'])\n",
        "uk_RFM_data['Monetary_log'] = np.log1p(uk_RFM_data['Monetary'])\n",
        "# 각 값에 log 적용시 결과값이 무한대로 발산되는 경우(-inf)를 \n",
        "# 방지하기 위해 결과값에 +1 해주는 로그함수 사용\n",
        "\n",
        "a = np.array([0, 12345])\n",
        "np.log(a)   # -inf, 9.4210064\n",
        "np.log1p(a)\n",
        "\n",
        "\n",
        "\n",
        "# 로그변환된 데이터를 이용해서 kmeans 군집화 적용하기\n",
        "X2 = uk_RFM_data.iloc[:, 4:7]\n",
        "\n",
        "X2_scaled = StandardScaler().fit_transform(X2)\n",
        "kms = KMeans(n_clusters=3, random_state=0)\n",
        "\n",
        "labeled2 = kms.fit_predict(X2_scaled)\n",
        "\n",
        "print('실루엣 점수', silhouette_score(X2_scaled, labeled2))\n",
        "# 실루엣 점수 0.3062580508120836\n",
        "\n",
        "\n",
        "kmeans_eval.visualize_silhouette([3, 4, 5], X2_scaled)\n",
        "# 실루엣 점수는 낮지만, 로그변환 덕택으로 인해 군집화는 잘 되었음"
      ],
      "execution_count": 30,
      "outputs": [
        {
          "output_type": "stream",
          "text": [
            "실루엣 점수 0.5003319417025076\n",
            "실루엣 점수 0.5003319417025076\n"
          ],
          "name": "stdout"
        },
        {
          "output_type": "display_data",
          "data": {
            "image/png": "[encoded data removed]",
            "text/plain": [
              "<Figure size 864x288 with 3 Axes>"
            ]
          },
          "metadata": {
            "tags": []
          }
        },
        {
          "output_type": "stream",
          "text": [
            "/usr/local/lib/python3.6/dist-packages/ipykernel_launcher.py:45: RuntimeWarning: divide by zero encountered in log\n"
          ],
          "name": "stderr"
        },
        {
          "output_type": "stream",
          "text": [
            "실루엣 점수 0.3260434144150678\n"
          ],
          "name": "stdout"
        },
        {
          "output_type": "display_data",
          "data": {
            "image/png": "[encoded data removed]",
            "text/plain": [
              "<Figure size 864x288 with 3 Axes>"
            ]
          },
          "metadata": {
            "tags": []
          }
        }
      ]
    },
    {
      "cell_type": "code",
      "metadata": {
        "id": "WgjZjJ-hOg6-",
        "colab_type": "code",
        "outputId": "4b858301-0f82-4a0f-e0d0-d2529ab0b681",
        "colab": {
          "base_uri": "https://localhost:8080/",
          "height": 391
        }
      },
      "source": [
        "print(uk_RFM_data['Recency'].head())\n",
        "print()\n",
        "print(uk_RFM_data['Frequency'].head())\n",
        "print()\n",
        "print(uk_RFM_data['Monetary'].head())"
      ],
      "execution_count": 31,
      "outputs": [
        {
          "output_type": "stream",
          "text": [
            "0    325\n",
            "1    164\n",
            "2    133\n",
            "3    213\n",
            "4    326\n",
            "Name: Recency, dtype: int64\n",
            "\n",
            "0       1\n",
            "1      63\n",
            "2    1840\n",
            "3      43\n",
            "4      11\n",
            "Name: Frequency, dtype: int64\n",
            "\n",
            "0    77183.60\n",
            "1     2467.70\n",
            "2    12669.06\n",
            "3      859.10\n",
            "4      170.46\n",
            "Name: Monetary, dtype: float64\n"
          ],
          "name": "stdout"
        }
      ]
    },
    {
      "cell_type": "code",
      "metadata": {
        "id": "xLEsUphEDgd1",
        "colab_type": "code",
        "outputId": "cb6abc35-e7e6-4dd7-e5ed-c04c1680eb24",
        "colab": {
          "base_uri": "https://localhost:8080/",
          "height": 355
        }
      },
      "source": [
        "# 프로그래밍 관점에서 RFM 분석\n",
        "# RFM 데이터를 구간별로 나눠서 가중치 부여\n",
        "# qcut(데이터, 구간수, 가중치리스트)\n",
        "\n",
        "\n",
        "# 게임 아이템 구매 관련 분석\n",
        "\n",
        "uk_RFM_data['R_quart'] = pd.qcut(\n",
        "    uk_RFM_data['Recency'], 5, ['1', '2', '3', '4', '5'])\n",
        "uk_RFM_data['R_quart'].value_counts()\n",
        "# 구매일자 기준, 가장 최근에 구매한 플레이어에게 높은 가중치 부여\n",
        "\n",
        "uk_RFM_data['F_quart'] = pd.qcut(\n",
        "    uk_RFM_data['Frequency'], 5, ['1', '2', '3', '4', '5'])\n",
        "uk_RFM_data['Frequency'].value_counts()\n",
        "# 구매빈도가 높은 플레이어에게 높은 가중치 부여\n",
        "\n",
        "uk_RFM_data['M_quart'] = pd.qcut(\n",
        "    uk_RFM_data['Monetary'], 5, ['1', '2', '3', '4', '5'])\n",
        "uk_RFM_data['Monetary'].value_counts()\n",
        "# 구매금액이 높은 플레이어에게 높은 가중치 부여\n",
        "\n",
        "\n",
        "\n",
        "# RFM 점수 산출\n",
        "uk_RFM_data.iloc[:, 7:10].head(5)\n",
        "\n",
        "uk_RFM_data['RFM score'] = uk_RFM_data.R_quart.astype(str) + \\\n",
        "                           uk_RFM_data.F_quart.astype(str) + \\\n",
        "                           uk_RFM_data.M_quart.astype(str) \n",
        "\n",
        "uk_RFM_data.iloc[:, 7:12].head(10)\n",
        "\n",
        "uk_RFM_data.iloc[:, [0, 1, 2, 3, 10]].sort_values(\n",
        "    'RFM score', ascending = False).head(10)\n",
        "\n",
        "uk_RFM_data.iloc[:, [0, 1, 2, 3, 10]].sort_values(\n",
        "    'Monetary', ascending = False).head(10)   # 구매금액 많은 순\n",
        "\n",
        "uk_RFM_data.iloc[:, [0, 1, 2, 3, 10]].sort_values(\n",
        "    'Frequency', ascending = False).head(10)   # 구매빈도 많은 순\n",
        "\n",
        "uk_RFM_data.iloc[:, [0, 1, 2, 3, 10]].sort_values(\n",
        "    'Recency', ascending = True).head(10)   # 구매일자 최근 순"
      ],
      "execution_count": 32,
      "outputs": [
        {
          "output_type": "execute_result",
          "data": {
            "text/html": [
              "<div>\n",
              "<style scoped>\n",
              "    .dataframe tbody tr th:only-of-type {\n",
              "        vertical-align: middle;\n",
              "    }\n",
              "\n",
              "    .dataframe tbody tr th {\n",
              "        vertical-align: top;\n",
              "    }\n",
              "\n",
              "    .dataframe thead th {\n",
              "        text-align: right;\n",
              "    }\n",
              "</style>\n",
              "<table border=\"1\" class=\"dataframe\">\n",
              "  <thead>\n",
              "    <tr style=\"text-align: right;\">\n",
              "      <th></th>\n",
              "      <th>Player_ID</th>\n",
              "      <th>Recency</th>\n",
              "      <th>Frequency</th>\n",
              "      <th>Monetary</th>\n",
              "      <th>RFM score</th>\n",
              "    </tr>\n",
              "  </thead>\n",
              "  <tbody>\n",
              "    <tr>\n",
              "      <th>863</th>\n",
              "      <td>14472</td>\n",
              "      <td>131</td>\n",
              "      <td>252</td>\n",
              "      <td>1794.10</td>\n",
              "      <td>155</td>\n",
              "    </tr>\n",
              "    <tr>\n",
              "      <th>1432</th>\n",
              "      <td>15569</td>\n",
              "      <td>131</td>\n",
              "      <td>29</td>\n",
              "      <td>886.11</td>\n",
              "      <td>134</td>\n",
              "    </tr>\n",
              "    <tr>\n",
              "      <th>1907</th>\n",
              "      <td>16477</td>\n",
              "      <td>131</td>\n",
              "      <td>121</td>\n",
              "      <td>1999.26</td>\n",
              "      <td>155</td>\n",
              "    </tr>\n",
              "    <tr>\n",
              "      <th>2085</th>\n",
              "      <td>16813</td>\n",
              "      <td>131</td>\n",
              "      <td>286</td>\n",
              "      <td>899.39</td>\n",
              "      <td>154</td>\n",
              "    </tr>\n",
              "    <tr>\n",
              "      <th>470</th>\n",
              "      <td>13722</td>\n",
              "      <td>131</td>\n",
              "      <td>85</td>\n",
              "      <td>2375.41</td>\n",
              "      <td>145</td>\n",
              "    </tr>\n",
              "    <tr>\n",
              "      <th>266</th>\n",
              "      <td>13316</td>\n",
              "      <td>131</td>\n",
              "      <td>49</td>\n",
              "      <td>3779.98</td>\n",
              "      <td>145</td>\n",
              "    </tr>\n",
              "    <tr>\n",
              "      <th>2527</th>\n",
              "      <td>17695</td>\n",
              "      <td>131</td>\n",
              "      <td>35</td>\n",
              "      <td>765.34</td>\n",
              "      <td>134</td>\n",
              "    </tr>\n",
              "    <tr>\n",
              "      <th>1087</th>\n",
              "      <td>14885</td>\n",
              "      <td>131</td>\n",
              "      <td>15</td>\n",
              "      <td>765.32</td>\n",
              "      <td>124</td>\n",
              "    </tr>\n",
              "    <tr>\n",
              "      <th>1382</th>\n",
              "      <td>15453</td>\n",
              "      <td>131</td>\n",
              "      <td>86</td>\n",
              "      <td>417.63</td>\n",
              "      <td>153</td>\n",
              "    </tr>\n",
              "    <tr>\n",
              "      <th>2145</th>\n",
              "      <td>16931</td>\n",
              "      <td>131</td>\n",
              "      <td>572</td>\n",
              "      <td>2743.97</td>\n",
              "      <td>155</td>\n",
              "    </tr>\n",
              "  </tbody>\n",
              "</table>\n",
              "</div>"
            ],
            "text/plain": [
              "      Player_ID  Recency  Frequency  Monetary RFM score\n",
              "863       14472      131        252   1794.10       155\n",
              "1432      15569      131         29    886.11       134\n",
              "1907      16477      131        121   1999.26       155\n",
              "2085      16813      131        286    899.39       154\n",
              "470       13722      131         85   2375.41       145\n",
              "266       13316      131         49   3779.98       145\n",
              "2527      17695      131         35    765.34       134\n",
              "1087      14885      131         15    765.32       124\n",
              "1382      15453      131         86    417.63       153\n",
              "2145      16931      131        572   2743.97       155"
            ]
          },
          "metadata": {
            "tags": []
          },
          "execution_count": 32
        }
      ]
    },
    {
      "cell_type": "markdown",
      "metadata": {
        "id": "pXzlb93NNGyP",
        "colab_type": "text"
      },
      "source": [
        "## 결론 : 게임 콘텐츠 전처리 및 실루엣 분석, 더불어 최종 RFM 스코어 산출을 통해 게임 유저들의 1) 공헌 정도성 과 2) 이탈 가능성 을 분석할 수 있는 기반 데이터를 만들었다는데 본 프로젝트는 큰 의의가 있음"
      ]
    }
  ]
}
