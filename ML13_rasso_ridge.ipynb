{
  "nbformat": 4,
  "nbformat_minor": 0,
  "metadata": {
    "colab": {
      "name": "ML13-rasso_ridge.ipynb",
      "version": "0.3.2",
      "provenance": [],
      "include_colab_link": true
    },
    "kernelspec": {
      "name": "python3",
      "display_name": "Python 3"
    }
  },
  "cells": [
    {
      "cell_type": "markdown",
      "metadata": {
        "id": "view-in-github",
        "colab_type": "text"
      },
      "source": [
        "<a href=\"https://colab.research.google.com/github/kosh777/superko/blob/master/ML13_rasso_ridge.ipynb\" target=\"_parent\"><img src=\"https://colab.research.google.com/assets/colab-badge.svg\" alt=\"Open In Colab\"/></a>"
      ]
    },
    {
      "cell_type": "code",
      "metadata": {
        "id": "z9P60dzO-ecZ",
        "colab_type": "code",
        "colab": {}
      },
      "source": [
        "import numpy as np\n",
        "import pandas as pd\n",
        "import matplotlib.pyplot as plt\n",
        "import seaborn as sns\n",
        "\n",
        "from sklearn.linear_model import LinearRegression\n",
        "from sklearn.model_selection import train_test_split"
      ],
      "execution_count": 0,
      "outputs": []
    },
    {
      "cell_type": "code",
      "metadata": {
        "id": "RpVWVnqf8mhN",
        "colab_type": "code",
        "colab": {}
      },
      "source": [
        "# Big Mart Sales 데이터셋을 이용한 회귀분석\n",
        "\n",
        "# 상품 item 의 특징(weight, fatcontent, type, mrp)\n",
        "# 매장 outlet 의 특징(year, size, location, type)에 \n",
        "# 따라 상품판매량을 예측함\n",
        "# => 어떤 시기에 어떤 상품이 잘 팔릴지\n",
        "# => 어떻게 상품을 배치해야 잘 팔릴지 고민\n",
        "# ==> 상점의 위치, 물건보유여부, 상점의 크기, \n",
        "#     세일여부, 홍보, 상점내 상품 위치 등이 \n",
        "#     매출에 어떤 영향을 미치는지 파악해 봄\n",
        "\n",
        "\n",
        "# 데이터 읽어오기\n",
        "bigmart = pd.read_csv('bigmartsales1.txt')\n",
        "\n",
        "bigmart.info()\n",
        "bigmart.describe()\n",
        "\n",
        "\n",
        "\n",
        "# 결측치 조사 및 처리 1 - 제거\n",
        "bigmart.isnull().sum()\n",
        "bigmart1 = bigmart.dropna()\n",
        "bigmart1.isnull().sum()\n",
        "\n",
        "\n",
        "\n",
        "# 산점도\n",
        "from pandas.plotting import scatter_matrix\n",
        "\n",
        "scatter_matrix(bigmart1)\n",
        "plt.show()\n",
        "\n",
        "\n",
        "sns.pairplot(bigmart1, diag_kind='hist', \n",
        "             hue='Outlet_Establishment_Year', palette='bright')\n",
        "# palette 다른값 = pastel, deep, dark, colorblind\n",
        "plt.show()\n",
        "\n",
        "\n",
        "\n",
        "# 산점도 - 상품무게별 판매량\n",
        "plt.scatter(bigmart1['Item_Weight'], bigmart1['Item_Outlet_Sales'])\n",
        "plt.show()\n",
        "\n",
        "\n",
        "\n",
        "# 산점도 - 상품가격MRP별 판매량\n",
        "plt.scatter(bigmart1['Item_MRP'], bigmart1['Item_Outlet_Sales'])\n",
        "plt.show()\n",
        "\n"
      ],
      "execution_count": 0,
      "outputs": []
    },
    {
      "cell_type": "code",
      "metadata": {
        "id": "RkblbX5jEu4u",
        "colab_type": "code",
        "colab": {}
      },
      "source": [
        "# 선형회귀 모델 1 : 상품종류별 판매량\n",
        "# 선형회귀 모델 2 : 상품가격별 판매량\n",
        "# 선형회귀 모델 3 : 아웃렛규모별 판매량\n",
        "# 선형회귀 모델 4 : 지역별 판매량\n",
        "# 선형회귀 모델 5 : 아웃렛유형별 판매량\n",
        "# 선형회귀 모델 6 : 상품특성에 따른 판매량\n",
        "# 선형회귀 모델 7 : 아웃렛특성에 따른 판매량\n",
        "# 선형회귀 모델 8 : 상품/아웃렛특성에 따른 판매량\n"
      ],
      "execution_count": 0,
      "outputs": []
    }
  ]
}